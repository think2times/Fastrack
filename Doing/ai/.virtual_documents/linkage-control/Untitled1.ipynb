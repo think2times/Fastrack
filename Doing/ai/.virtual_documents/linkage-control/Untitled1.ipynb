import rasterio
import numpy as np
import matplotlib.pyplot as plt

# 假设你的多波段 tif 文件叫 multi_bands.tif
tif_file = "multi_bands.tif"

with rasterio.open(tif_file) as src:
    print("波段数量:", src.count)
    print("图像尺寸:", src.width, "x", src.height)
    print("投影信息:", src.crs)

    # Sentinel-2: B3 (Green), B8 (NIR)
    # 注意：不同文件来源波段顺序可能不同，这里假设B3是第1个波段，B8是第2个
    green = src.read(1).astype('float32')  # 读取B3
    nir = src.read(2).astype('float32')    # 读取B8

# 避免除零错误
ndwi = (green - nir) / (green + nir + 1e-10)

# 可视化 NDWI
plt.figure(figsize=(8,6))
plt.imshow(ndwi, cmap='RdYlGn')
plt.colorbar(label="NDWI")
plt.title("NDWI from Sentinel-2")
plt.show()




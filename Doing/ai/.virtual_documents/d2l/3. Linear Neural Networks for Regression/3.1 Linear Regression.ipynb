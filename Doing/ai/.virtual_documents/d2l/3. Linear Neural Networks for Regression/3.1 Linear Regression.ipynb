%matplotlib inline
import math
import time
import numpy as np
import torch
from d2l import torch as d2l




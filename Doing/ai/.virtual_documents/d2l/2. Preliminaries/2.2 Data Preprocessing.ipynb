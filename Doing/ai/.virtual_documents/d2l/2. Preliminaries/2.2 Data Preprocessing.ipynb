import os

os.makedirs(os.path.join('..', 'data'), exist_ok=True)
data_file = os.path.join('..', 'data', 'house_tiny.csv')
with open(data_file, 'w') as f:
    f.write('''NumRooms,RoofType,Price
NA,NA,127500
2,NA,106000
4,Slate,178100
NA,NA,140000''') # 后面这几行必须顶格写，不然 pandas 会把第一列的 NA 前面的空格也作为数据的一部分，这样第一个 NA 就不会被识别为 NaN，二十字符串“    NA”


import pandas as pd

data = pd.read_csv(data_file)
data


inputs, targets = data.iloc[:, 0:2], data.iloc[:, 2]
inputs = pd.get_dummies(inputs, dummy_na=True)
inputs


inputs = inputs.fillna(inputs.mean())
inputs


import torch

X = torch.tensor(inputs.to_numpy(dtype=float))
y = torch.tensor(targets.to_numpy(dtype=float))
X, y




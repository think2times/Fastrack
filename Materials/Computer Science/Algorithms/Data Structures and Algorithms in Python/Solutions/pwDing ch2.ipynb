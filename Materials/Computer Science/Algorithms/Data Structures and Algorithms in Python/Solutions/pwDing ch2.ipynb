{
 "cells": [
  {
   "cell_type": "code",
   "execution_count": 1,
   "source": [
    "# R-2.4\r\n",
    "class Flower:\r\n",
    "    \"\"\" 创建一个Flower类 \"\"\"\r\n",
    "    def __init__(self, name=None, petals=None, price=None) -> None:\r\n",
    "        \"\"\" 初始化Flower对象 \r\n",
    "        \r\n",
    "        name 表示花名\r\n",
    "        petals 表示花瓣数量\r\n",
    "        price 表示花的价格\r\n",
    "        \"\"\"\r\n",
    "        self._name = name\r\n",
    "        self._petals = petals\r\n",
    "        self._price = price\r\n",
    "    \r\n",
    "    def get_name(self):\r\n",
    "        \"\"\" 获取花名 \"\"\"\r\n",
    "        if self._name is None:\r\n",
    "            return \"未设置花名\"\r\n",
    "        else:\r\n",
    "            return self._name\r\n",
    "\r\n",
    "    def get_petals(self):\r\n",
    "        \"\"\" 获取花瓣数 \"\"\"\r\n",
    "        if self._petals is None:\r\n",
    "            return \"未设置花瓣数\"\r\n",
    "        else:\r\n",
    "            return self._petals\r\n",
    "\r\n",
    "    def get_price(self):\r\n",
    "        \"\"\" 获取价格 \"\"\"\r\n",
    "        if self._price is None:\r\n",
    "            return \"未设置价格\"\r\n",
    "        else:\r\n",
    "            return self._price\r\n",
    "\r\n",
    "    def set_name(self, name):\r\n",
    "        \"\"\" 设置花名 \"\"\"\r\n",
    "        try:\r\n",
    "            self._name = str(name)\r\n",
    "        except:\r\n",
    "            print(\"花名必须为字符串\")\r\n",
    "    \r\n",
    "    def set_petals(self, petals):\r\n",
    "        \"\"\" 设置花瓣数 \"\"\"\r\n",
    "        try:\r\n",
    "            self._petals = int(petals)\r\n",
    "        except:\r\n",
    "            print(\"花瓣数必须为整数\")\r\n",
    "\r\n",
    "    def set_price(self, price):\r\n",
    "        \"\"\" 设置价格 \"\"\"\r\n",
    "        try:\r\n",
    "            self._price = float(price)\r\n",
    "        except:\r\n",
    "            print(\"价格必须为小数\")"
   ],
   "outputs": [],
   "metadata": {}
  },
  {
   "cell_type": "code",
   "execution_count": null,
   "source": [],
   "outputs": [],
   "metadata": {}
  }
 ],
 "metadata": {
  "orig_nbformat": 4,
  "language_info": {
   "name": "python",
   "version": "3.9.9",
   "mimetype": "text/x-python",
   "codemirror_mode": {
    "name": "ipython",
    "version": 3
   },
   "pygments_lexer": "ipython3",
   "nbconvert_exporter": "python",
   "file_extension": ".py"
  },
  "kernelspec": {
   "name": "python3",
   "display_name": "Python 3.9.9 64-bit"
  },
  "interpreter": {
   "hash": "ac59ebe37160ed0dfa835113d9b8498d9f09ceb179beaac4002f036b9467c963"
  }
 },
 "nbformat": 4,
 "nbformat_minor": 2
}
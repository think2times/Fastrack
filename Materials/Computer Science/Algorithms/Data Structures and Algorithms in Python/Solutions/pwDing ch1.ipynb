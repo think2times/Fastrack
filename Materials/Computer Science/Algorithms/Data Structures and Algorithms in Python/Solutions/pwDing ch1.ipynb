{
    "cells": [
        {
            "cell_type": "code",
            "execution_count": 2,
            "source": [
                "# R-1.1\r\n",
                "def is_multiple(n, m):\r\n",
                "    # 先判断m是否为0\r\n",
                "    if m == 0: return False\r\n",
                "    return n % m == 0"
            ],
            "outputs": [],
            "metadata": {}
        },
        {
            "cell_type": "code",
            "execution_count": 7,
            "source": [
                "# R-1.2\r\n",
                "def is_even(k):\r\n",
                "    # 先把k转为二进制字符串\r\n",
                "    bitK = list(bin(k))\r\n",
                "    if bitK[-1] == '0':\r\n",
                "        return True\r\n",
                "    else:\r\n",
                "        return False\r\n",
                "\r\n",
                "print(is_even(-1))\r\n",
                "print(is_even(0))\r\n",
                "print(is_even(1))\r\n",
                "print(is_even(5))\r\n",
                "print(is_even(100))"
            ],
            "outputs": [
                {
                    "output_type": "stream",
                    "name": "stdout",
                    "text": [
                        "False\n",
                        "True\n",
                        "False\n",
                        "False\n",
                        "True\n"
                    ]
                }
            ],
            "metadata": {}
        },
        {
            "cell_type": "code",
            "execution_count": 13,
            "source": [
                "# R-1.2\r\n",
                "def is_even2(k):\r\n",
                "    assert type(k) == int\r\n",
                "    # 偶数转化为二进制，它的最低位一定是0，而1最低位为1；所以偶数与1做位与运算，结果一定是0\r\n",
                "    return (k & 1) == 0\r\n",
                "\r\n",
                "print(is_even2(-1))\r\n",
                "print(is_even2(0))\r\n",
                "print(is_even2(1))\r\n",
                "print(is_even2(8))\r\n",
                "print(is_even2(9999))"
            ],
            "outputs": [
                {
                    "output_type": "stream",
                    "name": "stdout",
                    "text": [
                        "False\n",
                        "True\n",
                        "False\n",
                        "True\n",
                        "False\n"
                    ]
                }
            ],
            "metadata": {}
        },
        {
            "cell_type": "code",
            "execution_count": 10,
            "source": [
                "# R-1.3\r\n",
                "def minmax(data):\r\n",
                "    if data:\r\n",
                "        least, largest = data[0], data[0]\r\n",
                "        for n in data:\r\n",
                "            if n < least:\r\n",
                "                least = n\r\n",
                "            elif n > largest:\r\n",
                "                largest = n\r\n",
                "        return least, largest\r\n",
                "    else:\r\n",
                "        return\r\n",
                "\r\n",
                "print(minmax([-1, 0, 3, 10, 99]))"
            ],
            "outputs": [
                {
                    "output_type": "stream",
                    "name": "stdout",
                    "text": [
                        "(-1, 99)\n"
                    ]
                }
            ],
            "metadata": {}
        },
        {
            "cell_type": "code",
            "execution_count": 12,
            "source": [
                "# R-1.4\r\n",
                "def sumSquare(n):\r\n",
                "    sum = 0\r\n",
                "    for i in range(1, n):\r\n",
                "        sum += i * i\r\n",
                "    return sum\r\n",
                "\r\n",
                "print(sumSquare(5))\r\n",
                "print(sumSquare(101))\r\n",
                "print(sumSquare(-1))\r\n",
                "print(sumSquare(0))"
            ],
            "outputs": [
                {
                    "output_type": "stream",
                    "name": "stdout",
                    "text": [
                        "30\n",
                        "338350\n",
                        "0\n",
                        "0\n"
                    ]
                }
            ],
            "metadata": {}
        },
        {
            "cell_type": "code",
            "execution_count": 14,
            "source": [
                "# R-1.5\r\n",
                "def sumSquare2(n):\r\n",
                "    return sum(i * i for i in range(1, n))\r\n",
                "\r\n",
                "\r\n",
                "print(sumSquare2(5))\r\n",
                "print(sumSquare2(101))\r\n",
                "print(sumSquare2(-1))\r\n",
                "print(sumSquare2(0))"
            ],
            "outputs": [
                {
                    "output_type": "stream",
                    "name": "stdout",
                    "text": [
                        "30\n",
                        "338350\n",
                        "0\n",
                        "0\n"
                    ]
                }
            ],
            "metadata": {}
        },
        {
            "cell_type": "code",
            "execution_count": 15,
            "source": [
                "# R-1.6\r\n",
                "def sumSquare3(n):\r\n",
                "    # 利用推导式\r\n",
                "    return sum(i * i for i in range(1, n) if i % 2 == 1)\r\n",
                "\r\n",
                "\r\n",
                "print(sumSquare3(5))\r\n",
                "print(sumSquare3(101))\r\n",
                "print(sumSquare3(-1))\r\n",
                "print(sumSquare3(0))"
            ],
            "outputs": [
                {
                    "output_type": "stream",
                    "name": "stdout",
                    "text": [
                        "10\n",
                        "166650\n",
                        "0\n",
                        "0\n"
                    ]
                }
            ],
            "metadata": {}
        },
        {
            "cell_type": "code",
            "execution_count": 16,
            "source": [
                "# R-1.6 & R-1.7\r\n",
                "def sumSquare4(n):\r\n",
                "    # 用位预算判断是否为奇数\r\n",
                "    return sum(i * i for i in range(1, n) if (i & 1) != 0)\r\n",
                "\r\n",
                "\r\n",
                "print(sumSquare4(5))\r\n",
                "print(sumSquare4(101))\r\n",
                "print(sumSquare4(-1))\r\n",
                "print(sumSquare4(0))"
            ],
            "outputs": [
                {
                    "output_type": "stream",
                    "name": "stdout",
                    "text": [
                        "10\n",
                        "166650\n",
                        "0\n",
                        "0\n"
                    ]
                }
            ],
            "metadata": {}
        },
        {
            "cell_type": "code",
            "execution_count": 17,
            "source": [
                "# R-1.8\r\n",
                "def find_pos_idx(sequence, k):\r\n",
                "    scale = len(sequence)\r\n",
                "    if scale < abs(k):\r\n",
                "        return\r\n",
                "    else:\r\n",
                "        return scale + k \r\n",
                "\r\n",
                "print(find_pos_idx(\"string\", -1))\r\n",
                "print(find_pos_idx(\"string\", -2))\r\n",
                "print(find_pos_idx(\"string\", -6))\r\n",
                "print(find_pos_idx(\"string\", -7))"
            ],
            "outputs": [
                {
                    "output_type": "stream",
                    "name": "stdout",
                    "text": [
                        "5\n",
                        "4\n",
                        "0\n",
                        "None\n"
                    ]
                }
            ],
            "metadata": {}
        },
        {
            "cell_type": "code",
            "execution_count": 20,
            "source": [
                "# R-1.9 & R-1.10 & R-1.11\r\n",
                "print([i for i in range(50, 81, 10)])\r\n",
                "print([i for i in range(8, -9, -2)])\r\n",
                "print([2 ** i for i in range(9)])"
            ],
            "outputs": [
                {
                    "output_type": "stream",
                    "name": "stdout",
                    "text": [
                        "[50, 60, 70, 80]\n",
                        "[8, 6, 4, 2, 0, -2, -4, -6, -8]\n",
                        "[1, 2, 4, 8, 16, 32, 64, 128, 256]\n"
                    ]
                }
            ],
            "metadata": {}
        },
        {
            "cell_type": "code",
            "execution_count": null,
            "source": [
                "# R-1.12\r\n",
                "from random import randrange\r\n",
                "\r\n",
                "def choice(data):\r\n",
                "    if data:\r\n",
                "        return data[randrange(len(data))]\r\n",
                "    else:\r\n",
                "        return\r\n",
                "\r\n",
                "print(choice([-5, -8, -3, 0, 1, 2, 99, 15]))"
            ],
            "outputs": [],
            "metadata": {}
        }
    ],
    "metadata": {
        "orig_nbformat": 4,
        "language_info": {
            "name": "python",
            "version": "3.9.9",
            "mimetype": "text/x-python",
            "codemirror_mode": {
                "name": "ipython",
                "version": 3
            },
            "pygments_lexer": "ipython3",
            "nbconvert_exporter": "python",
            "file_extension": ".py"
        },
        "kernelspec": {
            "name": "python3",
            "display_name": "Python 3.9.9 64-bit"
        },
        "interpreter": {
            "hash": "ac59ebe37160ed0dfa835113d9b8498d9f09ceb179beaac4002f036b9467c963"
        }
    },
    "nbformat": 4,
    "nbformat_minor": 2
}
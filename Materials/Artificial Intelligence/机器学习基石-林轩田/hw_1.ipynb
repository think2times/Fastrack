{
 "cells": [
  {
   "cell_type": "code",
   "execution_count": 93,
   "id": "bb6f9aee",
   "metadata": {},
   "outputs": [],
   "source": [
    "import pandas as pd\n",
    "import numpy as np\n",
    "data = pd.read_csv('hw1_15_train.dat', names=['x1', 'x2', 'x3', 'x4', 'y'])\n",
    "# data.values"
   ]
  },
  {
   "cell_type": "code",
   "execution_count": 94,
   "id": "59c993d3-6f06-4f35-853f-0ea254d396b8",
   "metadata": {},
   "outputs": [],
   "source": [
    "X = []\n",
    "Y = []\n",
    "for row in data.values:\n",
    "    tmp = row[0].split('\\t')\n",
    "    Y.append(tmp[-1])\n",
    "    X.append(tmp[0].split())\n",
    "\n",
    "Y = np.array(Y, dtype=np.float64)\n",
    "X = np.array(X, dtype=np.float64)\n",
    "x0 = np.ones((1,Y.size))\n",
    "X = np.insert(X, 0, x0, axis=1)\n",
    "#X"
   ]
  },
  {
   "cell_type": "code",
   "execution_count": 95,
   "id": "8971309f-3578-47d0-911d-ca549b9d901a",
   "metadata": {},
   "outputs": [],
   "source": [
    "def predict(X, Y, W):\n",
    "    errors = 0\n",
    "    m = Y.size\n",
    "    for i in range(m):\n",
    "        if np.dot(W, X[i, :]) * Y[i] <= 0:\n",
    "            errors += 1\n",
    "    return errors / m"
   ]
  },
  {
   "cell_type": "code",
   "execution_count": 96,
   "id": "d771b8af",
   "metadata": {},
   "outputs": [],
   "source": [
    "def pla(X, Y, W=np.zeros((1, 5)), eta = 1, update_times=50):\n",
    "    m = Y.size\n",
    "    # 表示w更新次数\n",
    "    n = 0\n",
    "    # 表示预测正确的个数\n",
    "    test = 0\n",
    "    update = True\n",
    "    while update and n < update_times:\n",
    "        for i in range(m):\n",
    "            if np.dot(W, X[i, :]) * Y[i] <= 0:\n",
    "                W = W + eta * Y[i] * X[i, :]\n",
    "                n += 1\n",
    "                test = 0\n",
    "            test += 1\n",
    "            if test == m:\n",
    "                update = False\n",
    "    return W, n"
   ]
  },
  {
   "cell_type": "code",
   "execution_count": 97,
   "id": "a5a4aeea-df07-443b-bbb3-abd360666938",
   "metadata": {},
   "outputs": [
    {
     "data": {
      "text/plain": [
       "35.515"
      ]
     },
     "execution_count": 97,
     "metadata": {},
     "output_type": "execute_result"
    }
   ],
   "source": [
    "sum = 0\n",
    "for i in range(2000):\n",
    "    np.random.seed()\n",
    "    W0 = np.random.rand(5)\n",
    "    W, n = pla(X, Y, W0, 1)\n",
    "    sum += n\n",
    "sum / 2000"
   ]
  },
  {
   "cell_type": "code",
   "execution_count": 98,
   "id": "62a5cd40-9a2e-4352-8269-49c804ab13c9",
   "metadata": {},
   "outputs": [],
   "source": [
    "train_data = pd.read_csv('hw1_18_train.dat.txt', names=['x1', 'x2', 'x3', 'x4', 'y'])\n",
    "test_data = pd.read_csv('hw1_18_test.dat.txt', names=['x1', 'x2', 'x3', 'x4', 'y'])"
   ]
  },
  {
   "cell_type": "code",
   "execution_count": 99,
   "id": "5aa25d34-d1ab-4db5-a85d-91ab35615b7b",
   "metadata": {},
   "outputs": [],
   "source": [
    "X_train = []\n",
    "Y_train = []\n",
    "for row in train_data.values:\n",
    "    tmp = row[0].split('\\t')\n",
    "    Y_train.append(tmp[-1])\n",
    "    X_train.append(tmp[0].split())\n",
    "\n",
    "Y_train = np.array(Y_train, dtype=np.float64)\n",
    "X_train = np.array(X_train, dtype=np.float64)\n",
    "X_train_0 = np.ones((1,Y_train.size))\n",
    "X_train = np.insert(X_train, 0, X_train_0, axis=1)\n",
    "#X_train\n"
   ]
  },
  {
   "cell_type": "code",
   "execution_count": 100,
   "id": "699ba990-94f6-44cd-aff3-0869d1dc3b32",
   "metadata": {},
   "outputs": [],
   "source": [
    "def pocket(X, Y, W=np.zeros((1, 5)), update_times=50):\n",
    "    m = Y.size\n",
    "    # 表示w更新次数\n",
    "    n = 0\n",
    "    # 表示最低错误率\n",
    "    lowest = 1.0\n",
    "    while n < update_times:\n",
    "        for i in range(m):\n",
    "            if np.dot(W, X[i, :]) * Y[i] <= 0:\n",
    "                W = W + Y[i] * X[i, :]\n",
    "                n += 1\n",
    "    \n",
    "            if predict(X, Y, W) < lowest:\n",
    "                lowest = predict(X, Y, W)\n",
    "                W_pocket = W\n",
    "                \n",
    "    return W_pocket, lowest"
   ]
  },
  {
   "cell_type": "code",
   "execution_count": 101,
   "id": "bb576738-13d6-4ffe-8ebc-6e8a68a76bab",
   "metadata": {},
   "outputs": [],
   "source": [
    "X_test = []\n",
    "Y_test = []\n",
    "for row in test_data.values:\n",
    "    tmp = row[0].split('\\t')\n",
    "    Y_test.append(tmp[-1])\n",
    "    X_test.append(tmp[0].split())\n",
    "\n",
    "Y_test = np.array(Y_test, dtype=np.float64)\n",
    "X_test = np.array(X_test, dtype=np.float64)\n",
    "X_test_0 = np.ones((1,Y_test.size))\n",
    "X_test = np.insert(X_test, 0, X_test_0, axis=1)\n",
    "# X_test"
   ]
  },
  {
   "cell_type": "code",
   "execution_count": 102,
   "id": "ed5bd0af-f68e-479f-9a71-1498f433c4e9",
   "metadata": {},
   "outputs": [
    {
     "data": {
      "text/plain": [
       "0.10809200000000022"
      ]
     },
     "execution_count": 102,
     "metadata": {},
     "output_type": "execute_result"
    }
   ],
   "source": [
    "sum = 0\n",
    "for i in range(2000):\n",
    "    np.random.seed()\n",
    "    W0 = np.random.rand(5)\n",
    "    W, err_rate = pocket(X_train, Y_train, W0)\n",
    "    # 在测试集检查预测错误率\n",
    "    sum += predict(X_test, Y_test, W)\n",
    "sum / 2000"
   ]
  },
  {
   "cell_type": "code",
   "execution_count": null,
   "id": "eb659935-cc6b-4ea5-830c-cd8a6a28738c",
   "metadata": {},
   "outputs": [],
   "source": []
  }
 ],
 "metadata": {
  "kernelspec": {
   "display_name": "Python 3 (ipykernel)",
   "language": "python",
   "name": "python3"
  },
  "language_info": {
   "codemirror_mode": {
    "name": "ipython",
    "version": 3
   },
   "file_extension": ".py",
   "mimetype": "text/x-python",
   "name": "python",
   "nbconvert_exporter": "python",
   "pygments_lexer": "ipython3",
   "version": "3.9.9"
  }
 },
 "nbformat": 4,
 "nbformat_minor": 5
}
